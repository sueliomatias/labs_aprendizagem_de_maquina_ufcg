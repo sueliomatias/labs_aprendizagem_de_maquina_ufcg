{
  "cells": [
    {
      "cell_type": "markdown",
      "metadata": {
        "id": "2QmRLhUH6hox"
      },
      "source": [
        "# 0. Orientações"
      ]
    },
    {
      "cell_type": "markdown",
      "metadata": {
        "id": "zjOsvFRi6kWq"
      },
      "source": [
        "- O laboratório deverá ser realizado em grupo, conforme publicado no Google Classroom.\n",
        "- Apenas um dos integrantes deverá encaminhar o notebook contendo as respostas no prazo estabelecido. A pontuação será considerada para os demais integrantes.\n",
        "- Organize suas respostas! Indique qual tópico está respondendo. Dica: utilize markdown para sinalizar os tópicos.\n",
        "- Link para material prático de apoio a este laboratório utilizado em sala de aula: https://colab.research.google.com/drive/1gwaFd2PXOKbu7EhnTsaUYSrTmuCz3x6u"
      ]
    },
    {
      "cell_type": "markdown",
      "metadata": {
        "id": "l9AEwOoaO3_R"
      },
      "source": [
        "# 1. Pré-processamento"
      ]
    },
    {
      "cell_type": "markdown",
      "metadata": {
        "id": "-QOfUEIW3xTv"
      },
      "source": [
        "Você deverá realizar o pré-processamento num conjunto de dados abertos de obras do Tribunal de Contas do Estado do Paraná (TCE-PR).\n",
        "\n",
        "Além do conjunto de dados de todas as obras, também será utilizado o conjunto de dados que armazena os dados de acompanhamentos de cada obra. Uma obra pode conter diversos registros de acompanhamento, que sinalizam o andamento e o ciclo de vida de uma obra.\n",
        "\n",
        "O código para obtenção dos arquivos `.csv` está logo após o detalhamento de cada etapa de pré-processamento que deverá ser aplicada.\n",
        "\n",
        "Caso deseje mais detalhes sobre os dados, segue o link: https://www1.tce.pr.gov.br/conteudo/dados-abertos-tce-pr-consulta-de-bases/318736/area/54\n",
        "\n",
        "Link do dicionário de dados: https://servicos.tce.pr.gov.br/servicos/arquivos/dadosabertos/obrasmunicipais/obras_municipais_dicionario_de_dados.xlsx"
      ]
    },
    {
      "cell_type": "markdown",
      "metadata": {
        "id": "wBQOZjaXUmTD"
      },
      "source": [
        "Aplique cada uma das seguintes operações nos dados:\n",
        "\n",
        "- 1.1. Ambos os conjuntos de dados possuem um elemento contendo apenas linhas horizontais na linha de índice 0. Remova esta linha de ambos.\n",
        "- 1.2. Converta as colunas numéricas (segundo dicionário de dados) \"nrMedida\" e \"vlIntervencao\" do conjunto de dados de obras para o tipo \"float\". Utilize a estratégia \"coerce\" para eventuais erros.\n",
        "- 1.3. A coluna \"dsUnidadeMedidaIntervencao\" dos dados de obra trata-se de uma coluna categórica. Analise os valores existentes e responda: existe algum valor fora do padrão? Se sim, remova a(s) linha(s) que possuem este comportamento. Considere como o domínio da informação os seguintes valores: \"Metro quadrado\", \"Metro\", \"Hora\", \"Metro cúbico\", \"Quilômetro\", \"Hectare\", \"Tonelada\", \"Quilograma\".\n",
        "- 1.4. Remova linhas que possuem qualquer elemento nulo nos dados de obras.\n",
        "- 1.5. Remova linhas que possuem valor nulo na coluna \"idIntervencao\" nos dados de acompanhamento de obras.\n",
        "- 1.6. O conjunto de dados de obras possui algum elemento repetido? Se sim, remova-o.\n",
        "- 1.7. Remova do conjunto de dados de obras as linhas que representam obras não concluídas (obras que não possuem registro de acompanhamento com valor \"Conclusão\" para a coluna \"dsTipoAcompanhamento\").\n",
        "- 1.8. Converta as colunas categóricas do conjunto de dados de obras para valores numéricos (encoding). Sendo elas: \"dsTipoINtervencao\", \"dsClassificacaoIntervencao\", \"dsTipoObra\", \"dsClassificacaoObra\", \"dsUnidadeMedidaIntervencao\", \"dsTipoRegimeIntervencao\".\n",
        "- 1.9. Converta as seguintes colunas do conjunto de dados de obras para valores numéricos, também normalizando os seus valores: \"nrMedida\", \"vlIntervencao\" e \"nrPrazoExecucao\".\n",
        "- 1.10. Remova obras que não possuem nenhum acompanhamento registrado.\n",
        "- 1.11. Adicione uma nova coluna no dataframe de obras contendo a quantidade de acompanhamentos existentes para cada obra.\n",
        "- 1.12. Remova registros com valores discrepantes (outliers) para a coluna \"vlIntervencao\" para o conjunto de dados de obras.\n",
        "\n",
        "\n"
      ]
    },
    {
      "cell_type": "markdown",
      "metadata": {
        "id": "X5lXGYIRUhK0"
      },
      "source": [
        "O código para obtenção dos dados está nas células a seguir:"
      ]
    },
    {
      "cell_type": "code",
      "execution_count": 169,
      "metadata": {
        "colab": {
          "base_uri": "https://localhost:8080/"
        },
        "id": "EptSzJqSShUM",
        "outputId": "b6d4ceee-6560-4943-e431-a4eaa38d3ee3"
      },
      "outputs": [
        {
          "name": "stdout",
          "output_type": "stream",
          "text": [
            "--2024-09-22 13:22:37--  https://servicos.tce.pr.gov.br/servicos/arquivos/dadosabertos/obrasmunicipais/obras_municipais_base_de_dados.csv\n",
            "Resolvendo servicos.tce.pr.gov.br (servicos.tce.pr.gov.br)... 201.182.54.69\n",
            "Conectando-se a servicos.tce.pr.gov.br (servicos.tce.pr.gov.br)|201.182.54.69|:443... conectado.\n",
            "A requisição HTTP foi enviada, aguardando resposta... 200 OK\n",
            "Cookie vindo de servicos.tce.pr.gov.br tentou designar domínio como pr.gov.br\n",
            "Tamanho: 24527123 (23M) [application/octet-stream]\n",
            "Salvando em: ‘obras_municipais_base_de_dados.csv.1’\n",
            "\n",
            "obras_municipais_ba 100%[===================>]  23,39M   669KB/s    em 56s     \n",
            "\n",
            "2024-09-22 13:23:34 (426 KB/s) - ‘obras_municipais_base_de_dados.csv.1’ salvo [24527123/24527123]\n",
            "\n"
          ]
        }
      ],
      "source": [
        "# download do arquivo \"obras_municipais_base_de_dados_novo.csv\" com dados de acompanhamentos de obras\n",
        "#!gdown 1bM0MpoxGwBbtZx-lKgD-Q_fJ0JQjSydj\n",
        "\n",
        "!wget https://servicos.tce.pr.gov.br/servicos/arquivos/dadosabertos/obrasmunicipais/obras_municipais_base_de_dados.csv"
      ]
    },
    {
      "cell_type": "code",
      "execution_count": 170,
      "metadata": {
        "colab": {
          "base_uri": "https://localhost:8080/"
        },
        "id": "JGG5XKh7TEoS",
        "outputId": "91c21612-4f0c-40fe-94ba-9d84df0889e2"
      },
      "outputs": [
        {
          "name": "stdout",
          "output_type": "stream",
          "text": [
            "--2024-09-22 13:23:34--  https://servicos.tce.pr.gov.br/servicos/arquivos/dadosabertos/obrasmunicipais/acompanhamentos_base_de_dados.csv\n",
            "Resolvendo servicos.tce.pr.gov.br (servicos.tce.pr.gov.br)... 201.182.54.69\n",
            "Conectando-se a servicos.tce.pr.gov.br (servicos.tce.pr.gov.br)|201.182.54.69|:443... conectado.\n",
            "A requisição HTTP foi enviada, aguardando resposta... 200 OK\n",
            "Cookie vindo de servicos.tce.pr.gov.br tentou designar domínio como pr.gov.br\n",
            "Tamanho: 92056069 (88M) [application/octet-stream]\n",
            "Salvando em: ‘acompanhamentos_base_de_dados.csv.1’\n",
            "\n",
            "acompanhamentos_bas 100%[===================>]  87,79M   386KB/s    em 4m 26s  \n",
            "\n",
            "2024-09-22 13:28:01 (338 KB/s) - ‘acompanhamentos_base_de_dados.csv.1’ salvo [92056069/92056069]\n",
            "\n"
          ]
        }
      ],
      "source": [
        "# download do arquivo \"acompanhamentos_base_de_dados.csv\" com dados de obras\n",
        "#!gdown 1bmIQKjDlb5MTgR0b1ofUHnHWqhAhyu1u\n",
        "\n",
        "!wget https://servicos.tce.pr.gov.br/servicos/arquivos/dadosabertos/obrasmunicipais/acompanhamentos_base_de_dados.csv"
      ]
    },
    {
      "cell_type": "code",
      "execution_count": 171,
      "metadata": {
        "colab": {
          "base_uri": "https://localhost:8080/"
        },
        "id": "oI2doxFsQN1N",
        "outputId": "d15feb0d-22b3-4921-8812-7e286297ad52"
      },
      "outputs": [
        {
          "name": "stdout",
          "output_type": "stream",
          "text": [
            "acompanhamentos_base_de_dados.csv\n",
            "acompanhamentos_base_de_dados.csv.1\n",
            "Laboratório_1_Aprendizagem_de_Máquina_Clustering.ipynb\n",
            "obras_municipais_base_de_dados.csv\n",
            "obras_municipais_base_de_dados.csv.1\n"
          ]
        }
      ],
      "source": [
        "!ls"
      ]
    },
    {
      "cell_type": "markdown",
      "metadata": {
        "id": "eqpPxv0iF8oI"
      },
      "source": [
        "Para ler os dados em um dataframe com sucesso utilize os seguintes parâmetros: `low_memory=False, encoding='ISO-8859-1', delimiter=';'`"
      ]
    },
    {
      "cell_type": "code",
      "execution_count": 172,
      "metadata": {},
      "outputs": [],
      "source": [
        "# Realizando importação das bibliotecas\n",
        "import pandas as pd\n",
        "from sklearn.preprocessing import MinMaxScaler\n",
        "from sklearn.preprocessing import LabelEncoder"
      ]
    },
    {
      "cell_type": "code",
      "execution_count": 173,
      "metadata": {},
      "outputs": [],
      "source": [
        "df_acompanhamentos = pd.read_csv('acompanhamentos_base_de_dados.csv', sep=';', encoding='latin-1', low_memory=False, on_bad_lines='skip')\n",
        "df_obras = pd.read_csv('obras_municipais_base_de_dados.csv', sep=';', encoding='latin-1', low_memory=False)"
      ]
    },
    {
      "cell_type": "code",
      "execution_count": 174,
      "metadata": {},
      "outputs": [
        {
          "data": {
            "text/html": [
              "<div>\n",
              "<style scoped>\n",
              "    .dataframe tbody tr th:only-of-type {\n",
              "        vertical-align: middle;\n",
              "    }\n",
              "\n",
              "    .dataframe tbody tr th {\n",
              "        vertical-align: top;\n",
              "    }\n",
              "\n",
              "    .dataframe thead th {\n",
              "        text-align: right;\n",
              "    }\n",
              "</style>\n",
              "<table border=\"1\" class=\"dataframe\">\n",
              "  <thead>\n",
              "    <tr style=\"text-align: right;\">\n",
              "      <th></th>\n",
              "      <th>idIntervencao</th>\n",
              "      <th>nmPessoa</th>\n",
              "      <th>nrDocumento</th>\n",
              "      <th>cdIBGE</th>\n",
              "      <th>nmMunicipio</th>\n",
              "      <th>cdIntervencao</th>\n",
              "      <th>nrAnoIntervencao</th>\n",
              "      <th>dsTipoIntervencao</th>\n",
              "      <th>dsClassificacaoIntervencao</th>\n",
              "      <th>nmIntervencao</th>\n",
              "      <th>dsTipoObra</th>\n",
              "      <th>dsClassificacaoObra</th>\n",
              "      <th>dsObjeto</th>\n",
              "      <th>nrMedida</th>\n",
              "      <th>dsUnidadeMedidaIntervencao</th>\n",
              "      <th>vlIntervencao</th>\n",
              "      <th>dtBaseValorIntervencao</th>\n",
              "      <th>nrPrazoExecucao</th>\n",
              "      <th>dtInicio</th>\n",
              "      <th>dsTipoRegimeIntervencao</th>\n",
              "    </tr>\n",
              "  </thead>\n",
              "  <tbody>\n",
              "    <tr>\n",
              "      <th>0</th>\n",
              "      <td>-------------</td>\n",
              "      <td>--------</td>\n",
              "      <td>-----------</td>\n",
              "      <td>------</td>\n",
              "      <td>-----------</td>\n",
              "      <td>-------------</td>\n",
              "      <td>----------------</td>\n",
              "      <td>-----------------</td>\n",
              "      <td>--------------------------</td>\n",
              "      <td>-------------</td>\n",
              "      <td>----------</td>\n",
              "      <td>-------------------</td>\n",
              "      <td>--------</td>\n",
              "      <td>--------</td>\n",
              "      <td>--------------------------</td>\n",
              "      <td>-------------</td>\n",
              "      <td>----------------------</td>\n",
              "      <td>---------------</td>\n",
              "      <td>--------</td>\n",
              "      <td>-----------------------</td>\n",
              "    </tr>\n",
              "    <tr>\n",
              "      <th>1</th>\n",
              "      <td>1</td>\n",
              "      <td>CAMARA MUNICIPAL DE SAO JOSE DOS PINHAIS</td>\n",
              "      <td>78173648000157</td>\n",
              "      <td>25506</td>\n",
              "      <td>SÃO JOSÉ DOS PINHAIS</td>\n",
              "      <td>1</td>\n",
              "      <td>2012</td>\n",
              "      <td>Adaptação à base nova</td>\n",
              "      <td>Adaptação à base nova</td>\n",
              "      <td>Reforma da construção do pédio administrativo ...</td>\n",
              "      <td>Edificação</td>\n",
              "      <td>Edifício Administrativo</td>\n",
              "      <td>Reforma do prédio da Câmara Municipal, abrange...</td>\n",
              "      <td>1300.00</td>\n",
              "      <td>Metro quadrado</td>\n",
              "      <td>556552.19</td>\n",
              "      <td>04/12/2012 00:00:00</td>\n",
              "      <td>120</td>\n",
              "      <td>04/12/2012 00:00:00</td>\n",
              "      <td>Direto</td>\n",
              "    </tr>\n",
              "    <tr>\n",
              "      <th>2</th>\n",
              "      <td>2</td>\n",
              "      <td>MUNICÍPIO DE TUPÃSSI</td>\n",
              "      <td>77877116000138</td>\n",
              "      <td>27957</td>\n",
              "      <td>TUPÃSSI</td>\n",
              "      <td>1</td>\n",
              "      <td>2012</td>\n",
              "      <td>Adaptação à base nova</td>\n",
              "      <td>Adaptação à base nova</td>\n",
              "      <td>REFORMA E AMPLIAÇÃO</td>\n",
              "      <td>Edificação</td>\n",
              "      <td>Escola/Colégio</td>\n",
              "      <td>fornecimento de materiais e mão de obra para r...</td>\n",
              "      <td>1895.51</td>\n",
              "      <td>Metro quadrado</td>\n",
              "      <td>209169.33</td>\n",
              "      <td>14/09/2012 00:00:00</td>\n",
              "      <td>120</td>\n",
              "      <td>24/09/2012 00:00:00</td>\n",
              "      <td>Indireto</td>\n",
              "    </tr>\n",
              "    <tr>\n",
              "      <th>3</th>\n",
              "      <td>3</td>\n",
              "      <td>MUNICÍPIO DE TUPÃSSI</td>\n",
              "      <td>77877116000138</td>\n",
              "      <td>27957</td>\n",
              "      <td>TUPÃSSI</td>\n",
              "      <td>2</td>\n",
              "      <td>2012</td>\n",
              "      <td>Adaptação à base nova</td>\n",
              "      <td>Adaptação à base nova</td>\n",
              "      <td>REFORMA</td>\n",
              "      <td>Edificação</td>\n",
              "      <td>Escola/Colégio</td>\n",
              "      <td>Fornecimento de materiais e mão de obra para r...</td>\n",
              "      <td>559.89</td>\n",
              "      <td>Metro quadrado</td>\n",
              "      <td>272006.66</td>\n",
              "      <td>14/09/2012 00:00:00</td>\n",
              "      <td>120</td>\n",
              "      <td>24/09/2012 00:00:00</td>\n",
              "      <td>Indireto</td>\n",
              "    </tr>\n",
              "    <tr>\n",
              "      <th>4</th>\n",
              "      <td>4</td>\n",
              "      <td>MUNICÍPIO DE TUPÃSSI</td>\n",
              "      <td>77877116000138</td>\n",
              "      <td>27957</td>\n",
              "      <td>TUPÃSSI</td>\n",
              "      <td>1</td>\n",
              "      <td>2011</td>\n",
              "      <td>Adaptação à base nova</td>\n",
              "      <td>Adaptação à base nova</td>\n",
              "      <td>CALÇADAS</td>\n",
              "      <td>Pavimentação</td>\n",
              "      <td>Estrada Municipal</td>\n",
              "      <td>EXECUÇÃO DE CALÇADAS EM RUAS DO CONJUNTO HABIT...</td>\n",
              "      <td>6720.83</td>\n",
              "      <td>Metro quadrado</td>\n",
              "      <td>178288.33</td>\n",
              "      <td>09/05/2011 00:00:00</td>\n",
              "      <td>112</td>\n",
              "      <td>19/05/2011 00:00:00</td>\n",
              "      <td>Indireto</td>\n",
              "    </tr>\n",
              "  </tbody>\n",
              "</table>\n",
              "</div>"
            ],
            "text/plain": [
              "   idIntervencao                                  nmPessoa     nrDocumento  \\\n",
              "0  -------------                                  --------     -----------   \n",
              "1              1  CAMARA MUNICIPAL DE SAO JOSE DOS PINHAIS  78173648000157   \n",
              "2              2                      MUNICÍPIO DE TUPÃSSI  77877116000138   \n",
              "3              3                      MUNICÍPIO DE TUPÃSSI  77877116000138   \n",
              "4              4                      MUNICÍPIO DE TUPÃSSI  77877116000138   \n",
              "\n",
              "   cdIBGE           nmMunicipio  cdIntervencao  nrAnoIntervencao  \\\n",
              "0  ------           -----------  -------------  ----------------   \n",
              "1   25506  SÃO JOSÉ DOS PINHAIS              1              2012   \n",
              "2   27957               TUPÃSSI              1              2012   \n",
              "3   27957               TUPÃSSI              2              2012   \n",
              "4   27957               TUPÃSSI              1              2011   \n",
              "\n",
              "       dsTipoIntervencao  dsClassificacaoIntervencao  \\\n",
              "0      -----------------  --------------------------   \n",
              "1  Adaptação à base nova       Adaptação à base nova   \n",
              "2  Adaptação à base nova       Adaptação à base nova   \n",
              "3  Adaptação à base nova       Adaptação à base nova   \n",
              "4  Adaptação à base nova       Adaptação à base nova   \n",
              "\n",
              "                                       nmIntervencao    dsTipoObra  \\\n",
              "0                                      -------------    ----------   \n",
              "1  Reforma da construção do pédio administrativo ...    Edificação   \n",
              "2                                REFORMA E AMPLIAÇÃO    Edificação   \n",
              "3                                            REFORMA    Edificação   \n",
              "4                                           CALÇADAS  Pavimentação   \n",
              "\n",
              "       dsClassificacaoObra                                           dsObjeto  \\\n",
              "0      -------------------                                           --------   \n",
              "1  Edifício Administrativo  Reforma do prédio da Câmara Municipal, abrange...   \n",
              "2           Escola/Colégio  fornecimento de materiais e mão de obra para r...   \n",
              "3           Escola/Colégio  Fornecimento de materiais e mão de obra para r...   \n",
              "4        Estrada Municipal  EXECUÇÃO DE CALÇADAS EM RUAS DO CONJUNTO HABIT...   \n",
              "\n",
              "   nrMedida  dsUnidadeMedidaIntervencao  vlIntervencao  \\\n",
              "0  --------  --------------------------  -------------   \n",
              "1   1300.00              Metro quadrado      556552.19   \n",
              "2   1895.51              Metro quadrado      209169.33   \n",
              "3    559.89              Metro quadrado      272006.66   \n",
              "4   6720.83              Metro quadrado      178288.33   \n",
              "\n",
              "   dtBaseValorIntervencao  nrPrazoExecucao             dtInicio  \\\n",
              "0  ----------------------  ---------------             --------   \n",
              "1     04/12/2012 00:00:00              120  04/12/2012 00:00:00   \n",
              "2     14/09/2012 00:00:00              120  24/09/2012 00:00:00   \n",
              "3     14/09/2012 00:00:00              120  24/09/2012 00:00:00   \n",
              "4     09/05/2011 00:00:00              112  19/05/2011 00:00:00   \n",
              "\n",
              "   dsTipoRegimeIntervencao  \n",
              "0  -----------------------  \n",
              "1                   Direto  \n",
              "2                 Indireto  \n",
              "3                 Indireto  \n",
              "4                 Indireto  "
            ]
          },
          "execution_count": 174,
          "metadata": {},
          "output_type": "execute_result"
        }
      ],
      "source": [
        "df_acompanhamentos.head()\n",
        "df_obras.head()"
      ]
    },
    {
      "cell_type": "markdown",
      "metadata": {},
      "source": [
        "#### 1.1. Ambos os conjuntos de dados possuem um elemento contendo apenas linhas horizontais na linha de índice 0. Remova esta linha de ambos."
      ]
    },
    {
      "cell_type": "code",
      "execution_count": 175,
      "metadata": {},
      "outputs": [],
      "source": [
        "df_acompanhamentos = df_acompanhamentos.drop(0)\n",
        "df_obras = df_obras.drop(0)"
      ]
    },
    {
      "cell_type": "markdown",
      "metadata": {},
      "source": [
        "#### 1.2. Converta as colunas numéricas (segundo dicionário de dados) \"nrMedida\" e \"vlIntervencao\" do conjunto de dados de obras para o tipo \"float\". Utilize a estratégia \"coerce\" para eventuais erros."
      ]
    },
    {
      "cell_type": "code",
      "execution_count": 176,
      "metadata": {},
      "outputs": [
        {
          "data": {
            "text/plain": [
              "idIntervencao                  object\n",
              "nmPessoa                       object\n",
              "nrDocumento                    object\n",
              "cdIBGE                         object\n",
              "nmMunicipio                    object\n",
              "cdIntervencao                  object\n",
              "nrAnoIntervencao               object\n",
              "dsTipoIntervencao              object\n",
              "dsClassificacaoIntervencao     object\n",
              "nmIntervencao                  object\n",
              "dsTipoObra                     object\n",
              "dsClassificacaoObra            object\n",
              "dsObjeto                       object\n",
              "nrMedida                      float64\n",
              "dsUnidadeMedidaIntervencao     object\n",
              "vlIntervencao                 float64\n",
              "dtBaseValorIntervencao         object\n",
              "nrPrazoExecucao                object\n",
              "dtInicio                       object\n",
              "dsTipoRegimeIntervencao        object\n",
              "dtype: object"
            ]
          },
          "execution_count": 176,
          "metadata": {},
          "output_type": "execute_result"
        }
      ],
      "source": [
        "df_obras['nrMedida'] = pd.to_numeric(df_obras['nrMedida'], errors='coerce')\n",
        "df_obras['vlIntervencao'] = pd.to_numeric(df_obras['vlIntervencao'], errors='coerce')\n",
        "\n",
        "df_obras.dtypes\n"
      ]
    },
    {
      "cell_type": "markdown",
      "metadata": {},
      "source": [
        "#### 1.3. A coluna \"dsUnidadeMedidaIntervencao\" dos dados de obra trata-se de uma coluna categórica. Analise os valores existentes e responda: existe algum valor fora do padrão? Se sim, remova a(s) linha(s) que possuem este comportamento. Considere como o domínio da informação os seguintes valores: \"Metro quadrado\", \"Metro\", \"Hora\", \"Metro cúbico\", \"Quilômetro\", \"Hectare\", \"Tonelada\", \"Quilograma\"."
      ]
    },
    {
      "cell_type": "code",
      "execution_count": 177,
      "metadata": {},
      "outputs": [
        {
          "data": {
            "text/plain": [
              "dsUnidadeMedidaIntervencao\n",
              "Metro quadrado         40312\n",
              "Metro                   7342\n",
              "Hora                     982\n",
              "Metro cúbico             610\n",
              "Quilômetro               493\n",
              "Hectare                  408\n",
              "Tonelada                 208\n",
              "Quilograma                70\n",
              "507189.69                  1\n",
              "83250.00                   1\n",
              "39125.11                   1\n",
              "900080.58                  1\n",
              "166944.41                  1\n",
              "312264.89                  1\n",
              "13/12/2019 00:00:00        1\n",
              "101076.32                  1\n",
              "29/11/2022 00:00:00        1\n",
              "564500.08                  1\n",
              "189865.51                  1\n",
              "13437087.97                1\n",
              "01/06/2024 00:00:00        1\n",
              "230497.81                  1\n",
              "Name: count, dtype: int64"
            ]
          },
          "execution_count": 177,
          "metadata": {},
          "output_type": "execute_result"
        }
      ],
      "source": [
        "df_obras['dsUnidadeMedidaIntervencao'].value_counts()"
      ]
    },
    {
      "cell_type": "markdown",
      "metadata": {},
      "source": [
        "Analisando os valores existentes na coluna dsUnidadeMedidaIntervencao percebemos que há valores fora do domínio como números float e datas.\n",
        "\n",
        "Procedendo com a remoção das linhas com valores fora do domínio da informação"
      ]
    },
    {
      "cell_type": "code",
      "execution_count": 178,
      "metadata": {},
      "outputs": [
        {
          "data": {
            "text/plain": [
              "dsUnidadeMedidaIntervencao\n",
              "Metro quadrado    40312\n",
              "Metro              7342\n",
              "Hora                982\n",
              "Metro cúbico        610\n",
              "Quilômetro          493\n",
              "Hectare             408\n",
              "Tonelada            208\n",
              "Quilograma           70\n",
              "Name: count, dtype: int64"
            ]
          },
          "execution_count": 178,
          "metadata": {},
          "output_type": "execute_result"
        }
      ],
      "source": [
        "# removendo valores fora do padrão\n",
        "df_obras = df_obras[df_obras['dsUnidadeMedidaIntervencao'].isin([\"Metro quadrado\", \"Metro\", \"Hora\", \"Metro cúbico\", \"Quilômetro\", \"Hectare\", \"Tonelada\", \"Quilograma\"])]\n",
        "\n",
        "# verificando se a remoção foi realizada com sucesso\n",
        "df_obras['dsUnidadeMedidaIntervencao'].value_counts()\n"
      ]
    },
    {
      "cell_type": "markdown",
      "metadata": {},
      "source": [
        "#### 1.4. Remova linhas que possuem qualquer elemento nulo nos dados de obras"
      ]
    },
    {
      "cell_type": "code",
      "execution_count": 179,
      "metadata": {},
      "outputs": [
        {
          "data": {
            "text/plain": [
              "idIntervencao                 0\n",
              "nmPessoa                      0\n",
              "nrDocumento                   0\n",
              "cdIBGE                        0\n",
              "nmMunicipio                   0\n",
              "cdIntervencao                 0\n",
              "nrAnoIntervencao              0\n",
              "dsTipoIntervencao             0\n",
              "dsClassificacaoIntervencao    0\n",
              "nmIntervencao                 0\n",
              "dsTipoObra                    0\n",
              "dsClassificacaoObra           0\n",
              "dsObjeto                      0\n",
              "nrMedida                      0\n",
              "dsUnidadeMedidaIntervencao    0\n",
              "vlIntervencao                 0\n",
              "dtBaseValorIntervencao        0\n",
              "nrPrazoExecucao               0\n",
              "dtInicio                      0\n",
              "dsTipoRegimeIntervencao       0\n",
              "dtype: int64"
            ]
          },
          "execution_count": 179,
          "metadata": {},
          "output_type": "execute_result"
        }
      ],
      "source": [
        "df_obras = df_obras.dropna()\n",
        "\n",
        "df_obras.isnull().sum()"
      ]
    },
    {
      "cell_type": "markdown",
      "metadata": {},
      "source": [
        "#### 1.5. Remova linhas que possuem valor nulo na coluna \"idIntervencao\" nos dados de acompanhamento de obras."
      ]
    },
    {
      "cell_type": "code",
      "execution_count": 180,
      "metadata": {},
      "outputs": [
        {
          "data": {
            "text/plain": [
              "idIntervencao                      0\n",
              "dsOrigemAcompanhamento             0\n",
              "nrAcompanhamento                   0\n",
              "dtAcompanhamento                   0\n",
              "dsTipoAcompanhamento               0\n",
              "nmResponsavel                      0\n",
              "sgTipoDocumentoResponsavel         0\n",
              "nrDocumentoResponsavel             0\n",
              "dsObservacao                  197437\n",
              "dsTipoMedicao                  91887\n",
              "nrPercentualFisico             91931\n",
              "dsMotivoParalisacao           450981\n",
              "dtype: int64"
            ]
          },
          "execution_count": 180,
          "metadata": {},
          "output_type": "execute_result"
        }
      ],
      "source": [
        "df_acompanhamentos.isnull().sum()"
      ]
    },
    {
      "cell_type": "code",
      "execution_count": 181,
      "metadata": {},
      "outputs": [
        {
          "data": {
            "text/plain": [
              "idIntervencao                      0\n",
              "dsOrigemAcompanhamento             0\n",
              "nrAcompanhamento                   0\n",
              "dtAcompanhamento                   0\n",
              "dsTipoAcompanhamento               0\n",
              "nmResponsavel                      0\n",
              "sgTipoDocumentoResponsavel         0\n",
              "nrDocumentoResponsavel             0\n",
              "dsObservacao                  197437\n",
              "dsTipoMedicao                  91887\n",
              "nrPercentualFisico             91931\n",
              "dsMotivoParalisacao           450981\n",
              "dtype: int64"
            ]
          },
          "execution_count": 181,
          "metadata": {},
          "output_type": "execute_result"
        }
      ],
      "source": [
        "df_acompanhamentos = df_acompanhamentos.dropna(subset=['idIntervencao'])\n",
        "\n",
        "df_acompanhamentos.isnull().sum()"
      ]
    },
    {
      "cell_type": "markdown",
      "metadata": {},
      "source": [
        "#### 1.6. O conjunto de dados de obras possui algum elemento repetido? Se sim, remova-o."
      ]
    },
    {
      "cell_type": "code",
      "execution_count": 182,
      "metadata": {},
      "outputs": [
        {
          "data": {
            "text/plain": [
              "np.int64(0)"
            ]
          },
          "execution_count": 182,
          "metadata": {},
          "output_type": "execute_result"
        }
      ],
      "source": [
        "df_obras = df_obras.drop_duplicates()\n",
        "\n",
        "df_obras.duplicated().sum()"
      ]
    },
    {
      "cell_type": "markdown",
      "metadata": {},
      "source": [
        "#### 1.7. Remova do conjunto de dados de obras as linhas que representam obras não concluídas (obras que não possuem registro de acompanhamento com valor \"Conclusão\" para a coluna \"dsTipoAcompanhamento\")."
      ]
    },
    {
      "cell_type": "code",
      "execution_count": 183,
      "metadata": {},
      "outputs": [
        {
          "data": {
            "text/plain": [
              "dsTipoAcompanhamento\n",
              "Medição                        405889\n",
              "Paralisação                     46792\n",
              "Conclusão                       44569\n",
              "Cancelamento de Intervenção       390\n",
              "Cadastro indevido                 131\n",
              "Name: count, dtype: int64"
            ]
          },
          "execution_count": 183,
          "metadata": {},
          "output_type": "execute_result"
        }
      ],
      "source": [
        "df_acompanhamentos['dsTipoAcompanhamento'].value_counts()"
      ]
    },
    {
      "cell_type": "code",
      "execution_count": 184,
      "metadata": {},
      "outputs": [
        {
          "data": {
            "text/plain": [
              "(44249, 20)"
            ]
          },
          "execution_count": 184,
          "metadata": {},
          "output_type": "execute_result"
        }
      ],
      "source": [
        "df_obras = df_obras[df_obras['idIntervencao'].isin(df_acompanhamentos[df_acompanhamentos['dsTipoAcompanhamento'] == 'Conclusão']['idIntervencao'])]\n",
        "\n",
        "df_obras.shape"
      ]
    },
    {
      "cell_type": "markdown",
      "metadata": {},
      "source": [
        "#### 1.8. Converta as colunas categóricas do conjunto de dados de obras para valores numéricos (encoding). Sendo elas: \"dsTipoINtervencao\", \"dsClassificacaoIntervencao\", \"dsTipoObra\", \"dsClassificacaoObra\", \"dsUnidadeMedidaIntervencao\", \"dsTipoRegimeIntervencao\"."
      ]
    },
    {
      "cell_type": "code",
      "execution_count": 185,
      "metadata": {},
      "outputs": [
        {
          "data": {
            "text/html": [
              "<div>\n",
              "<style scoped>\n",
              "    .dataframe tbody tr th:only-of-type {\n",
              "        vertical-align: middle;\n",
              "    }\n",
              "\n",
              "    .dataframe tbody tr th {\n",
              "        vertical-align: top;\n",
              "    }\n",
              "\n",
              "    .dataframe thead th {\n",
              "        text-align: right;\n",
              "    }\n",
              "</style>\n",
              "<table border=\"1\" class=\"dataframe\">\n",
              "  <thead>\n",
              "    <tr style=\"text-align: right;\">\n",
              "      <th></th>\n",
              "      <th>idIntervencao</th>\n",
              "      <th>nmPessoa</th>\n",
              "      <th>nrDocumento</th>\n",
              "      <th>cdIBGE</th>\n",
              "      <th>nmMunicipio</th>\n",
              "      <th>cdIntervencao</th>\n",
              "      <th>nrAnoIntervencao</th>\n",
              "      <th>dsTipoIntervencao</th>\n",
              "      <th>dsClassificacaoIntervencao</th>\n",
              "      <th>nmIntervencao</th>\n",
              "      <th>dsTipoObra</th>\n",
              "      <th>dsClassificacaoObra</th>\n",
              "      <th>dsObjeto</th>\n",
              "      <th>nrMedida</th>\n",
              "      <th>dsUnidadeMedidaIntervencao</th>\n",
              "      <th>vlIntervencao</th>\n",
              "      <th>dtBaseValorIntervencao</th>\n",
              "      <th>nrPrazoExecucao</th>\n",
              "      <th>dtInicio</th>\n",
              "      <th>dsTipoRegimeIntervencao</th>\n",
              "    </tr>\n",
              "  </thead>\n",
              "  <tbody>\n",
              "    <tr>\n",
              "      <th>1</th>\n",
              "      <td>1</td>\n",
              "      <td>CAMARA MUNICIPAL DE SAO JOSE DOS PINHAIS</td>\n",
              "      <td>78173648000157</td>\n",
              "      <td>25506</td>\n",
              "      <td>SÃO JOSÉ DOS PINHAIS</td>\n",
              "      <td>1</td>\n",
              "      <td>2012</td>\n",
              "      <td>0</td>\n",
              "      <td>0</td>\n",
              "      <td>Reforma da construção do pédio administrativo ...</td>\n",
              "      <td>0</td>\n",
              "      <td>9</td>\n",
              "      <td>Reforma do prédio da Câmara Municipal, abrange...</td>\n",
              "      <td>1300.00</td>\n",
              "      <td>4</td>\n",
              "      <td>556552.19</td>\n",
              "      <td>04/12/2012 00:00:00</td>\n",
              "      <td>120</td>\n",
              "      <td>04/12/2012 00:00:00</td>\n",
              "      <td>0</td>\n",
              "    </tr>\n",
              "    <tr>\n",
              "      <th>2</th>\n",
              "      <td>2</td>\n",
              "      <td>MUNICÍPIO DE TUPÃSSI</td>\n",
              "      <td>77877116000138</td>\n",
              "      <td>27957</td>\n",
              "      <td>TUPÃSSI</td>\n",
              "      <td>1</td>\n",
              "      <td>2012</td>\n",
              "      <td>0</td>\n",
              "      <td>0</td>\n",
              "      <td>REFORMA E AMPLIAÇÃO</td>\n",
              "      <td>0</td>\n",
              "      <td>10</td>\n",
              "      <td>fornecimento de materiais e mão de obra para r...</td>\n",
              "      <td>1895.51</td>\n",
              "      <td>4</td>\n",
              "      <td>209169.33</td>\n",
              "      <td>14/09/2012 00:00:00</td>\n",
              "      <td>120</td>\n",
              "      <td>24/09/2012 00:00:00</td>\n",
              "      <td>1</td>\n",
              "    </tr>\n",
              "    <tr>\n",
              "      <th>3</th>\n",
              "      <td>3</td>\n",
              "      <td>MUNICÍPIO DE TUPÃSSI</td>\n",
              "      <td>77877116000138</td>\n",
              "      <td>27957</td>\n",
              "      <td>TUPÃSSI</td>\n",
              "      <td>2</td>\n",
              "      <td>2012</td>\n",
              "      <td>0</td>\n",
              "      <td>0</td>\n",
              "      <td>REFORMA</td>\n",
              "      <td>0</td>\n",
              "      <td>10</td>\n",
              "      <td>Fornecimento de materiais e mão de obra para r...</td>\n",
              "      <td>559.89</td>\n",
              "      <td>4</td>\n",
              "      <td>272006.66</td>\n",
              "      <td>14/09/2012 00:00:00</td>\n",
              "      <td>120</td>\n",
              "      <td>24/09/2012 00:00:00</td>\n",
              "      <td>1</td>\n",
              "    </tr>\n",
              "    <tr>\n",
              "      <th>4</th>\n",
              "      <td>4</td>\n",
              "      <td>MUNICÍPIO DE TUPÃSSI</td>\n",
              "      <td>77877116000138</td>\n",
              "      <td>27957</td>\n",
              "      <td>TUPÃSSI</td>\n",
              "      <td>1</td>\n",
              "      <td>2011</td>\n",
              "      <td>0</td>\n",
              "      <td>0</td>\n",
              "      <td>CALÇADAS</td>\n",
              "      <td>4</td>\n",
              "      <td>12</td>\n",
              "      <td>EXECUÇÃO DE CALÇADAS EM RUAS DO CONJUNTO HABIT...</td>\n",
              "      <td>6720.83</td>\n",
              "      <td>4</td>\n",
              "      <td>178288.33</td>\n",
              "      <td>09/05/2011 00:00:00</td>\n",
              "      <td>112</td>\n",
              "      <td>19/05/2011 00:00:00</td>\n",
              "      <td>1</td>\n",
              "    </tr>\n",
              "    <tr>\n",
              "      <th>5</th>\n",
              "      <td>5</td>\n",
              "      <td>MUNICÍPIO DE TUPÃSSI</td>\n",
              "      <td>77877116000138</td>\n",
              "      <td>27957</td>\n",
              "      <td>TUPÃSSI</td>\n",
              "      <td>2</td>\n",
              "      <td>2011</td>\n",
              "      <td>0</td>\n",
              "      <td>0</td>\n",
              "      <td>PAVIMENTAÇÃO COM PEDRA IRREGULAR</td>\n",
              "      <td>4</td>\n",
              "      <td>13</td>\n",
              "      <td>Fornecimento de material e mão de obra para o ...</td>\n",
              "      <td>10200.00</td>\n",
              "      <td>4</td>\n",
              "      <td>186297.92</td>\n",
              "      <td>10/06/2011 00:00:00</td>\n",
              "      <td>120</td>\n",
              "      <td>20/06/2011 00:00:00</td>\n",
              "      <td>1</td>\n",
              "    </tr>\n",
              "  </tbody>\n",
              "</table>\n",
              "</div>"
            ],
            "text/plain": [
              "  idIntervencao                                  nmPessoa     nrDocumento  \\\n",
              "1             1  CAMARA MUNICIPAL DE SAO JOSE DOS PINHAIS  78173648000157   \n",
              "2             2                      MUNICÍPIO DE TUPÃSSI  77877116000138   \n",
              "3             3                      MUNICÍPIO DE TUPÃSSI  77877116000138   \n",
              "4             4                      MUNICÍPIO DE TUPÃSSI  77877116000138   \n",
              "5             5                      MUNICÍPIO DE TUPÃSSI  77877116000138   \n",
              "\n",
              "  cdIBGE           nmMunicipio cdIntervencao nrAnoIntervencao  \\\n",
              "1  25506  SÃO JOSÉ DOS PINHAIS             1             2012   \n",
              "2  27957               TUPÃSSI             1             2012   \n",
              "3  27957               TUPÃSSI             2             2012   \n",
              "4  27957               TUPÃSSI             1             2011   \n",
              "5  27957               TUPÃSSI             2             2011   \n",
              "\n",
              "   dsTipoIntervencao  dsClassificacaoIntervencao  \\\n",
              "1                  0                           0   \n",
              "2                  0                           0   \n",
              "3                  0                           0   \n",
              "4                  0                           0   \n",
              "5                  0                           0   \n",
              "\n",
              "                                       nmIntervencao  dsTipoObra  \\\n",
              "1  Reforma da construção do pédio administrativo ...           0   \n",
              "2                                REFORMA E AMPLIAÇÃO           0   \n",
              "3                                            REFORMA           0   \n",
              "4                                           CALÇADAS           4   \n",
              "5                   PAVIMENTAÇÃO COM PEDRA IRREGULAR           4   \n",
              "\n",
              "   dsClassificacaoObra                                           dsObjeto  \\\n",
              "1                    9  Reforma do prédio da Câmara Municipal, abrange...   \n",
              "2                   10  fornecimento de materiais e mão de obra para r...   \n",
              "3                   10  Fornecimento de materiais e mão de obra para r...   \n",
              "4                   12  EXECUÇÃO DE CALÇADAS EM RUAS DO CONJUNTO HABIT...   \n",
              "5                   13  Fornecimento de material e mão de obra para o ...   \n",
              "\n",
              "   nrMedida  dsUnidadeMedidaIntervencao  vlIntervencao dtBaseValorIntervencao  \\\n",
              "1   1300.00                           4      556552.19    04/12/2012 00:00:00   \n",
              "2   1895.51                           4      209169.33    14/09/2012 00:00:00   \n",
              "3    559.89                           4      272006.66    14/09/2012 00:00:00   \n",
              "4   6720.83                           4      178288.33    09/05/2011 00:00:00   \n",
              "5  10200.00                           4      186297.92    10/06/2011 00:00:00   \n",
              "\n",
              "  nrPrazoExecucao             dtInicio  dsTipoRegimeIntervencao  \n",
              "1             120  04/12/2012 00:00:00                        0  \n",
              "2             120  24/09/2012 00:00:00                        1  \n",
              "3             120  24/09/2012 00:00:00                        1  \n",
              "4             112  19/05/2011 00:00:00                        1  \n",
              "5             120  20/06/2011 00:00:00                        1  "
            ]
          },
          "execution_count": 185,
          "metadata": {},
          "output_type": "execute_result"
        }
      ],
      "source": [
        "le = LabelEncoder()\n",
        "\n",
        "df_obras['dsTipoIntervencao'] = le.fit_transform(df_obras['dsTipoIntervencao'])\n",
        "df_obras['dsClassificacaoIntervencao'] = le.fit_transform(df_obras['dsClassificacaoIntervencao'])\n",
        "df_obras['dsTipoObra'] = le.fit_transform(df_obras['dsTipoObra'])\n",
        "df_obras['dsClassificacaoObra'] = le.fit_transform(df_obras['dsClassificacaoObra'])\n",
        "df_obras['dsUnidadeMedidaIntervencao'] = le.fit_transform(df_obras['dsUnidadeMedidaIntervencao'])\n",
        "df_obras['dsTipoRegimeIntervencao'] = le.fit_transform(df_obras['dsTipoRegimeIntervencao'])\n",
        "\n",
        "df_obras.head()\n",
        "\n"
      ]
    },
    {
      "cell_type": "markdown",
      "metadata": {},
      "source": [
        "#### 1.9. Converta as seguintes colunas do conjunto de dados de obras para valores numéricos, também normalizando os seus valores: \"nrMedida\", \"vlIntervencao\" e \"nrPrazoExecucao\"."
      ]
    },
    {
      "cell_type": "code",
      "execution_count": 186,
      "metadata": {},
      "outputs": [
        {
          "data": {
            "text/html": [
              "<div>\n",
              "<style scoped>\n",
              "    .dataframe tbody tr th:only-of-type {\n",
              "        vertical-align: middle;\n",
              "    }\n",
              "\n",
              "    .dataframe tbody tr th {\n",
              "        vertical-align: top;\n",
              "    }\n",
              "\n",
              "    .dataframe thead th {\n",
              "        text-align: right;\n",
              "    }\n",
              "</style>\n",
              "<table border=\"1\" class=\"dataframe\">\n",
              "  <thead>\n",
              "    <tr style=\"text-align: right;\">\n",
              "      <th></th>\n",
              "      <th>idIntervencao</th>\n",
              "      <th>nmPessoa</th>\n",
              "      <th>nrDocumento</th>\n",
              "      <th>cdIBGE</th>\n",
              "      <th>nmMunicipio</th>\n",
              "      <th>cdIntervencao</th>\n",
              "      <th>nrAnoIntervencao</th>\n",
              "      <th>dsTipoIntervencao</th>\n",
              "      <th>dsClassificacaoIntervencao</th>\n",
              "      <th>nmIntervencao</th>\n",
              "      <th>dsTipoObra</th>\n",
              "      <th>dsClassificacaoObra</th>\n",
              "      <th>dsObjeto</th>\n",
              "      <th>nrMedida</th>\n",
              "      <th>dsUnidadeMedidaIntervencao</th>\n",
              "      <th>vlIntervencao</th>\n",
              "      <th>dtBaseValorIntervencao</th>\n",
              "      <th>nrPrazoExecucao</th>\n",
              "      <th>dtInicio</th>\n",
              "      <th>dsTipoRegimeIntervencao</th>\n",
              "    </tr>\n",
              "  </thead>\n",
              "  <tbody>\n",
              "    <tr>\n",
              "      <th>1</th>\n",
              "      <td>1</td>\n",
              "      <td>CAMARA MUNICIPAL DE SAO JOSE DOS PINHAIS</td>\n",
              "      <td>78173648000157</td>\n",
              "      <td>25506</td>\n",
              "      <td>SÃO JOSÉ DOS PINHAIS</td>\n",
              "      <td>1</td>\n",
              "      <td>2012</td>\n",
              "      <td>0</td>\n",
              "      <td>0</td>\n",
              "      <td>Reforma da construção do pédio administrativo ...</td>\n",
              "      <td>0</td>\n",
              "      <td>9</td>\n",
              "      <td>Reforma do prédio da Câmara Municipal, abrange...</td>\n",
              "      <td>1300.00</td>\n",
              "      <td>4</td>\n",
              "      <td>556552.19</td>\n",
              "      <td>04/12/2012 00:00:00</td>\n",
              "      <td>120</td>\n",
              "      <td>04/12/2012 00:00:00</td>\n",
              "      <td>0</td>\n",
              "    </tr>\n",
              "    <tr>\n",
              "      <th>2</th>\n",
              "      <td>2</td>\n",
              "      <td>MUNICÍPIO DE TUPÃSSI</td>\n",
              "      <td>77877116000138</td>\n",
              "      <td>27957</td>\n",
              "      <td>TUPÃSSI</td>\n",
              "      <td>1</td>\n",
              "      <td>2012</td>\n",
              "      <td>0</td>\n",
              "      <td>0</td>\n",
              "      <td>REFORMA E AMPLIAÇÃO</td>\n",
              "      <td>0</td>\n",
              "      <td>10</td>\n",
              "      <td>fornecimento de materiais e mão de obra para r...</td>\n",
              "      <td>1895.51</td>\n",
              "      <td>4</td>\n",
              "      <td>209169.33</td>\n",
              "      <td>14/09/2012 00:00:00</td>\n",
              "      <td>120</td>\n",
              "      <td>24/09/2012 00:00:00</td>\n",
              "      <td>1</td>\n",
              "    </tr>\n",
              "    <tr>\n",
              "      <th>3</th>\n",
              "      <td>3</td>\n",
              "      <td>MUNICÍPIO DE TUPÃSSI</td>\n",
              "      <td>77877116000138</td>\n",
              "      <td>27957</td>\n",
              "      <td>TUPÃSSI</td>\n",
              "      <td>2</td>\n",
              "      <td>2012</td>\n",
              "      <td>0</td>\n",
              "      <td>0</td>\n",
              "      <td>REFORMA</td>\n",
              "      <td>0</td>\n",
              "      <td>10</td>\n",
              "      <td>Fornecimento de materiais e mão de obra para r...</td>\n",
              "      <td>559.89</td>\n",
              "      <td>4</td>\n",
              "      <td>272006.66</td>\n",
              "      <td>14/09/2012 00:00:00</td>\n",
              "      <td>120</td>\n",
              "      <td>24/09/2012 00:00:00</td>\n",
              "      <td>1</td>\n",
              "    </tr>\n",
              "    <tr>\n",
              "      <th>4</th>\n",
              "      <td>4</td>\n",
              "      <td>MUNICÍPIO DE TUPÃSSI</td>\n",
              "      <td>77877116000138</td>\n",
              "      <td>27957</td>\n",
              "      <td>TUPÃSSI</td>\n",
              "      <td>1</td>\n",
              "      <td>2011</td>\n",
              "      <td>0</td>\n",
              "      <td>0</td>\n",
              "      <td>CALÇADAS</td>\n",
              "      <td>4</td>\n",
              "      <td>12</td>\n",
              "      <td>EXECUÇÃO DE CALÇADAS EM RUAS DO CONJUNTO HABIT...</td>\n",
              "      <td>6720.83</td>\n",
              "      <td>4</td>\n",
              "      <td>178288.33</td>\n",
              "      <td>09/05/2011 00:00:00</td>\n",
              "      <td>112</td>\n",
              "      <td>19/05/2011 00:00:00</td>\n",
              "      <td>1</td>\n",
              "    </tr>\n",
              "    <tr>\n",
              "      <th>5</th>\n",
              "      <td>5</td>\n",
              "      <td>MUNICÍPIO DE TUPÃSSI</td>\n",
              "      <td>77877116000138</td>\n",
              "      <td>27957</td>\n",
              "      <td>TUPÃSSI</td>\n",
              "      <td>2</td>\n",
              "      <td>2011</td>\n",
              "      <td>0</td>\n",
              "      <td>0</td>\n",
              "      <td>PAVIMENTAÇÃO COM PEDRA IRREGULAR</td>\n",
              "      <td>4</td>\n",
              "      <td>13</td>\n",
              "      <td>Fornecimento de material e mão de obra para o ...</td>\n",
              "      <td>10200.00</td>\n",
              "      <td>4</td>\n",
              "      <td>186297.92</td>\n",
              "      <td>10/06/2011 00:00:00</td>\n",
              "      <td>120</td>\n",
              "      <td>20/06/2011 00:00:00</td>\n",
              "      <td>1</td>\n",
              "    </tr>\n",
              "  </tbody>\n",
              "</table>\n",
              "</div>"
            ],
            "text/plain": [
              "  idIntervencao                                  nmPessoa     nrDocumento  \\\n",
              "1             1  CAMARA MUNICIPAL DE SAO JOSE DOS PINHAIS  78173648000157   \n",
              "2             2                      MUNICÍPIO DE TUPÃSSI  77877116000138   \n",
              "3             3                      MUNICÍPIO DE TUPÃSSI  77877116000138   \n",
              "4             4                      MUNICÍPIO DE TUPÃSSI  77877116000138   \n",
              "5             5                      MUNICÍPIO DE TUPÃSSI  77877116000138   \n",
              "\n",
              "  cdIBGE           nmMunicipio cdIntervencao nrAnoIntervencao  \\\n",
              "1  25506  SÃO JOSÉ DOS PINHAIS             1             2012   \n",
              "2  27957               TUPÃSSI             1             2012   \n",
              "3  27957               TUPÃSSI             2             2012   \n",
              "4  27957               TUPÃSSI             1             2011   \n",
              "5  27957               TUPÃSSI             2             2011   \n",
              "\n",
              "   dsTipoIntervencao  dsClassificacaoIntervencao  \\\n",
              "1                  0                           0   \n",
              "2                  0                           0   \n",
              "3                  0                           0   \n",
              "4                  0                           0   \n",
              "5                  0                           0   \n",
              "\n",
              "                                       nmIntervencao  dsTipoObra  \\\n",
              "1  Reforma da construção do pédio administrativo ...           0   \n",
              "2                                REFORMA E AMPLIAÇÃO           0   \n",
              "3                                            REFORMA           0   \n",
              "4                                           CALÇADAS           4   \n",
              "5                   PAVIMENTAÇÃO COM PEDRA IRREGULAR           4   \n",
              "\n",
              "   dsClassificacaoObra                                           dsObjeto  \\\n",
              "1                    9  Reforma do prédio da Câmara Municipal, abrange...   \n",
              "2                   10  fornecimento de materiais e mão de obra para r...   \n",
              "3                   10  Fornecimento de materiais e mão de obra para r...   \n",
              "4                   12  EXECUÇÃO DE CALÇADAS EM RUAS DO CONJUNTO HABIT...   \n",
              "5                   13  Fornecimento de material e mão de obra para o ...   \n",
              "\n",
              "   nrMedida  dsUnidadeMedidaIntervencao  vlIntervencao dtBaseValorIntervencao  \\\n",
              "1   1300.00                           4      556552.19    04/12/2012 00:00:00   \n",
              "2   1895.51                           4      209169.33    14/09/2012 00:00:00   \n",
              "3    559.89                           4      272006.66    14/09/2012 00:00:00   \n",
              "4   6720.83                           4      178288.33    09/05/2011 00:00:00   \n",
              "5  10200.00                           4      186297.92    10/06/2011 00:00:00   \n",
              "\n",
              "  nrPrazoExecucao             dtInicio  dsTipoRegimeIntervencao  \n",
              "1             120  04/12/2012 00:00:00                        0  \n",
              "2             120  24/09/2012 00:00:00                        1  \n",
              "3             120  24/09/2012 00:00:00                        1  \n",
              "4             112  19/05/2011 00:00:00                        1  \n",
              "5             120  20/06/2011 00:00:00                        1  "
            ]
          },
          "execution_count": 186,
          "metadata": {},
          "output_type": "execute_result"
        }
      ],
      "source": [
        "df_obras.head()"
      ]
    },
    {
      "cell_type": "code",
      "execution_count": 187,
      "metadata": {},
      "outputs": [
        {
          "data": {
            "text/plain": [
              "idIntervencao                  object\n",
              "nmPessoa                       object\n",
              "nrDocumento                    object\n",
              "cdIBGE                         object\n",
              "nmMunicipio                    object\n",
              "cdIntervencao                  object\n",
              "nrAnoIntervencao               object\n",
              "dsTipoIntervencao               int64\n",
              "dsClassificacaoIntervencao      int64\n",
              "nmIntervencao                  object\n",
              "dsTipoObra                      int64\n",
              "dsClassificacaoObra             int64\n",
              "dsObjeto                       object\n",
              "nrMedida                      float64\n",
              "dsUnidadeMedidaIntervencao      int64\n",
              "vlIntervencao                 float64\n",
              "dtBaseValorIntervencao         object\n",
              "nrPrazoExecucao               float64\n",
              "dtInicio                       object\n",
              "dsTipoRegimeIntervencao         int64\n",
              "dtype: object"
            ]
          },
          "execution_count": 187,
          "metadata": {},
          "output_type": "execute_result"
        }
      ],
      "source": [
        "# convertendo as colunas para valores numéricos\n",
        "df_obras['nrMedida'] = pd.to_numeric(df_obras['nrMedida'], errors='coerce')\n",
        "df_obras['vlIntervencao'] = pd.to_numeric(df_obras['vlIntervencao'], errors='coerce')\n",
        "df_obras['nrPrazoExecucao'] = pd.to_numeric(df_obras['nrPrazoExecucao'], errors='coerce')\n",
        "\n",
        "# normalizando os valores\n",
        "scaler = MinMaxScaler()\n",
        "\n",
        "df_obras['nrMedida'] = scaler.fit_transform(df_obras[['nrMedida']])\n",
        "df_obras['vlIntervencao'] = scaler.fit_transform(df_obras[['vlIntervencao']])\n",
        "df_obras['nrPrazoExecucao'] = scaler.fit_transform(df_obras[['nrPrazoExecucao']])\n",
        "\n",
        "df_obras.head()\n",
        "\n",
        "# vericar se a normalização foi realizada com sucesso\n",
        "df_obras.describe()\n",
        "\n",
        "# verificar tipos de dados\n",
        "df_obras.dtypes\n"
      ]
    },
    {
      "cell_type": "markdown",
      "metadata": {},
      "source": [
        "#### 1.10. Remova obras que não possuem nenhum acompanhamento registrado."
      ]
    },
    {
      "cell_type": "code",
      "execution_count": 188,
      "metadata": {},
      "outputs": [
        {
          "data": {
            "text/plain": [
              "(44249, 20)"
            ]
          },
          "execution_count": 188,
          "metadata": {},
          "output_type": "execute_result"
        }
      ],
      "source": [
        "df_obras = df_obras[df_obras['idIntervencao'].isin(df_acompanhamentos['idIntervencao'])]\n",
        "\n",
        "df_obras.shape"
      ]
    },
    {
      "cell_type": "markdown",
      "metadata": {},
      "source": [
        "#### 1.11. Adicione uma nova coluna no dataframe de obras contendo a quantidade de acompanhamentos existentes para cada obra."
      ]
    },
    {
      "cell_type": "code",
      "execution_count": 189,
      "metadata": {},
      "outputs": [
        {
          "data": {
            "text/html": [
              "<div>\n",
              "<style scoped>\n",
              "    .dataframe tbody tr th:only-of-type {\n",
              "        vertical-align: middle;\n",
              "    }\n",
              "\n",
              "    .dataframe tbody tr th {\n",
              "        vertical-align: top;\n",
              "    }\n",
              "\n",
              "    .dataframe thead th {\n",
              "        text-align: right;\n",
              "    }\n",
              "</style>\n",
              "<table border=\"1\" class=\"dataframe\">\n",
              "  <thead>\n",
              "    <tr style=\"text-align: right;\">\n",
              "      <th></th>\n",
              "      <th>idIntervencao</th>\n",
              "      <th>nmPessoa</th>\n",
              "      <th>nrDocumento</th>\n",
              "      <th>cdIBGE</th>\n",
              "      <th>nmMunicipio</th>\n",
              "      <th>cdIntervencao</th>\n",
              "      <th>nrAnoIntervencao</th>\n",
              "      <th>dsTipoIntervencao</th>\n",
              "      <th>dsClassificacaoIntervencao</th>\n",
              "      <th>nmIntervencao</th>\n",
              "      <th>...</th>\n",
              "      <th>dsClassificacaoObra</th>\n",
              "      <th>dsObjeto</th>\n",
              "      <th>nrMedida</th>\n",
              "      <th>dsUnidadeMedidaIntervencao</th>\n",
              "      <th>vlIntervencao</th>\n",
              "      <th>dtBaseValorIntervencao</th>\n",
              "      <th>nrPrazoExecucao</th>\n",
              "      <th>dtInicio</th>\n",
              "      <th>dsTipoRegimeIntervencao</th>\n",
              "      <th>qtd_acompanhamentos</th>\n",
              "    </tr>\n",
              "  </thead>\n",
              "  <tbody>\n",
              "    <tr>\n",
              "      <th>1</th>\n",
              "      <td>1</td>\n",
              "      <td>CAMARA MUNICIPAL DE SAO JOSE DOS PINHAIS</td>\n",
              "      <td>78173648000157</td>\n",
              "      <td>25506</td>\n",
              "      <td>SÃO JOSÉ DOS PINHAIS</td>\n",
              "      <td>1</td>\n",
              "      <td>2012</td>\n",
              "      <td>0</td>\n",
              "      <td>0</td>\n",
              "      <td>Reforma da construção do pédio administrativo ...</td>\n",
              "      <td>...</td>\n",
              "      <td>9</td>\n",
              "      <td>Reforma do prédio da Câmara Municipal, abrange...</td>\n",
              "      <td>1.300000e-06</td>\n",
              "      <td>4</td>\n",
              "      <td>0.002346</td>\n",
              "      <td>04/12/2012 00:00:00</td>\n",
              "      <td>0.0121</td>\n",
              "      <td>04/12/2012 00:00:00</td>\n",
              "      <td>0</td>\n",
              "      <td>5</td>\n",
              "    </tr>\n",
              "    <tr>\n",
              "      <th>2</th>\n",
              "      <td>2</td>\n",
              "      <td>MUNICÍPIO DE TUPÃSSI</td>\n",
              "      <td>77877116000138</td>\n",
              "      <td>27957</td>\n",
              "      <td>TUPÃSSI</td>\n",
              "      <td>1</td>\n",
              "      <td>2012</td>\n",
              "      <td>0</td>\n",
              "      <td>0</td>\n",
              "      <td>REFORMA E AMPLIAÇÃO</td>\n",
              "      <td>...</td>\n",
              "      <td>10</td>\n",
              "      <td>fornecimento de materiais e mão de obra para r...</td>\n",
              "      <td>1.895510e-06</td>\n",
              "      <td>4</td>\n",
              "      <td>0.000882</td>\n",
              "      <td>14/09/2012 00:00:00</td>\n",
              "      <td>0.0121</td>\n",
              "      <td>24/09/2012 00:00:00</td>\n",
              "      <td>1</td>\n",
              "      <td>11</td>\n",
              "    </tr>\n",
              "    <tr>\n",
              "      <th>3</th>\n",
              "      <td>3</td>\n",
              "      <td>MUNICÍPIO DE TUPÃSSI</td>\n",
              "      <td>77877116000138</td>\n",
              "      <td>27957</td>\n",
              "      <td>TUPÃSSI</td>\n",
              "      <td>2</td>\n",
              "      <td>2012</td>\n",
              "      <td>0</td>\n",
              "      <td>0</td>\n",
              "      <td>REFORMA</td>\n",
              "      <td>...</td>\n",
              "      <td>10</td>\n",
              "      <td>Fornecimento de materiais e mão de obra para r...</td>\n",
              "      <td>5.598900e-07</td>\n",
              "      <td>4</td>\n",
              "      <td>0.001147</td>\n",
              "      <td>14/09/2012 00:00:00</td>\n",
              "      <td>0.0121</td>\n",
              "      <td>24/09/2012 00:00:00</td>\n",
              "      <td>1</td>\n",
              "      <td>7</td>\n",
              "    </tr>\n",
              "    <tr>\n",
              "      <th>4</th>\n",
              "      <td>4</td>\n",
              "      <td>MUNICÍPIO DE TUPÃSSI</td>\n",
              "      <td>77877116000138</td>\n",
              "      <td>27957</td>\n",
              "      <td>TUPÃSSI</td>\n",
              "      <td>1</td>\n",
              "      <td>2011</td>\n",
              "      <td>0</td>\n",
              "      <td>0</td>\n",
              "      <td>CALÇADAS</td>\n",
              "      <td>...</td>\n",
              "      <td>12</td>\n",
              "      <td>EXECUÇÃO DE CALÇADAS EM RUAS DO CONJUNTO HABIT...</td>\n",
              "      <td>6.720830e-06</td>\n",
              "      <td>4</td>\n",
              "      <td>0.000752</td>\n",
              "      <td>09/05/2011 00:00:00</td>\n",
              "      <td>0.0113</td>\n",
              "      <td>19/05/2011 00:00:00</td>\n",
              "      <td>1</td>\n",
              "      <td>9</td>\n",
              "    </tr>\n",
              "    <tr>\n",
              "      <th>5</th>\n",
              "      <td>5</td>\n",
              "      <td>MUNICÍPIO DE TUPÃSSI</td>\n",
              "      <td>77877116000138</td>\n",
              "      <td>27957</td>\n",
              "      <td>TUPÃSSI</td>\n",
              "      <td>2</td>\n",
              "      <td>2011</td>\n",
              "      <td>0</td>\n",
              "      <td>0</td>\n",
              "      <td>PAVIMENTAÇÃO COM PEDRA IRREGULAR</td>\n",
              "      <td>...</td>\n",
              "      <td>13</td>\n",
              "      <td>Fornecimento de material e mão de obra para o ...</td>\n",
              "      <td>1.020000e-05</td>\n",
              "      <td>4</td>\n",
              "      <td>0.000785</td>\n",
              "      <td>10/06/2011 00:00:00</td>\n",
              "      <td>0.0121</td>\n",
              "      <td>20/06/2011 00:00:00</td>\n",
              "      <td>1</td>\n",
              "      <td>7</td>\n",
              "    </tr>\n",
              "  </tbody>\n",
              "</table>\n",
              "<p>5 rows × 21 columns</p>\n",
              "</div>"
            ],
            "text/plain": [
              "  idIntervencao                                  nmPessoa     nrDocumento  \\\n",
              "1             1  CAMARA MUNICIPAL DE SAO JOSE DOS PINHAIS  78173648000157   \n",
              "2             2                      MUNICÍPIO DE TUPÃSSI  77877116000138   \n",
              "3             3                      MUNICÍPIO DE TUPÃSSI  77877116000138   \n",
              "4             4                      MUNICÍPIO DE TUPÃSSI  77877116000138   \n",
              "5             5                      MUNICÍPIO DE TUPÃSSI  77877116000138   \n",
              "\n",
              "  cdIBGE           nmMunicipio cdIntervencao nrAnoIntervencao  \\\n",
              "1  25506  SÃO JOSÉ DOS PINHAIS             1             2012   \n",
              "2  27957               TUPÃSSI             1             2012   \n",
              "3  27957               TUPÃSSI             2             2012   \n",
              "4  27957               TUPÃSSI             1             2011   \n",
              "5  27957               TUPÃSSI             2             2011   \n",
              "\n",
              "   dsTipoIntervencao  dsClassificacaoIntervencao  \\\n",
              "1                  0                           0   \n",
              "2                  0                           0   \n",
              "3                  0                           0   \n",
              "4                  0                           0   \n",
              "5                  0                           0   \n",
              "\n",
              "                                       nmIntervencao  ...  \\\n",
              "1  Reforma da construção do pédio administrativo ...  ...   \n",
              "2                                REFORMA E AMPLIAÇÃO  ...   \n",
              "3                                            REFORMA  ...   \n",
              "4                                           CALÇADAS  ...   \n",
              "5                   PAVIMENTAÇÃO COM PEDRA IRREGULAR  ...   \n",
              "\n",
              "   dsClassificacaoObra                                           dsObjeto  \\\n",
              "1                    9  Reforma do prédio da Câmara Municipal, abrange...   \n",
              "2                   10  fornecimento de materiais e mão de obra para r...   \n",
              "3                   10  Fornecimento de materiais e mão de obra para r...   \n",
              "4                   12  EXECUÇÃO DE CALÇADAS EM RUAS DO CONJUNTO HABIT...   \n",
              "5                   13  Fornecimento de material e mão de obra para o ...   \n",
              "\n",
              "       nrMedida  dsUnidadeMedidaIntervencao  vlIntervencao  \\\n",
              "1  1.300000e-06                           4       0.002346   \n",
              "2  1.895510e-06                           4       0.000882   \n",
              "3  5.598900e-07                           4       0.001147   \n",
              "4  6.720830e-06                           4       0.000752   \n",
              "5  1.020000e-05                           4       0.000785   \n",
              "\n",
              "   dtBaseValorIntervencao nrPrazoExecucao             dtInicio  \\\n",
              "1     04/12/2012 00:00:00          0.0121  04/12/2012 00:00:00   \n",
              "2     14/09/2012 00:00:00          0.0121  24/09/2012 00:00:00   \n",
              "3     14/09/2012 00:00:00          0.0121  24/09/2012 00:00:00   \n",
              "4     09/05/2011 00:00:00          0.0113  19/05/2011 00:00:00   \n",
              "5     10/06/2011 00:00:00          0.0121  20/06/2011 00:00:00   \n",
              "\n",
              "  dsTipoRegimeIntervencao  qtd_acompanhamentos  \n",
              "1                       0                    5  \n",
              "2                       1                   11  \n",
              "3                       1                    7  \n",
              "4                       1                    9  \n",
              "5                       1                    7  \n",
              "\n",
              "[5 rows x 21 columns]"
            ]
          },
          "execution_count": 189,
          "metadata": {},
          "output_type": "execute_result"
        }
      ],
      "source": [
        "df_obras['qtd_acompanhamentos'] = df_obras['idIntervencao'].map(df_acompanhamentos['idIntervencao'].value_counts())\n",
        "\n",
        "df_obras.head()"
      ]
    },
    {
      "cell_type": "markdown",
      "metadata": {},
      "source": [
        "#### 1.12. Remova registros com valores discrepantes (outliers) para a coluna \"vlIntervencao\" para o conjunto de dados de obras."
      ]
    },
    {
      "cell_type": "code",
      "execution_count": 190,
      "metadata": {},
      "outputs": [
        {
          "data": {
            "text/plain": [
              "(39445, 21)"
            ]
          },
          "execution_count": 190,
          "metadata": {},
          "output_type": "execute_result"
        }
      ],
      "source": [
        "Q1 = df_obras['vlIntervencao'].quantile(0.25)\n",
        "Q3 = df_obras['vlIntervencao'].quantile(0.75)\n",
        "IQR = Q3 - Q1\n",
        "\n",
        "# Filtrar os outliers\n",
        "df_obras = df_obras[(df_obras['vlIntervencao'] >= Q1 - 1.5 * IQR) & (df_obras['vlIntervencao'] <= Q3 + 1.5 * IQR)]\n",
        "\n",
        "df_obras.shape\n"
      ]
    },
    {
      "cell_type": "markdown",
      "metadata": {
        "id": "pPTOXUKBKORl"
      },
      "source": [
        "# 2. Agrupamento no Mall Customers"
      ]
    },
    {
      "cell_type": "markdown",
      "metadata": {
        "id": "BvSo44nNKUxq"
      },
      "source": [
        "Utilize o conjunto de dados \"Mall Customers\" utilizado no notebook de exemplo para aplicar os algoritmos de agrupamento K-Means e DBSCAN. Lembre-se de obter os hiperparâmentros otimizados ao conjunto de dados (k e eps). Em sua resposta, contemple os seguintes itens:\n",
        "- 2.1. Realize os pré-processamentos necessários no conjunto de dados\n",
        "- 2.2. Realize o agrupamento utilizando K-Means\n",
        "- 2.3. Realize o agrupamento utilizando DBScan\n",
        "- 2.4. Calcule o Coeficiente de Silhueta e DBScore para os agrupamentos realizados. Compare os resultados.\n",
        "- 2.5. Plote os dados e os seus respectivos grupos utilizando redução de dimensionalidade (PCA). Utilize o código do item 2.3.3 (Material Prático de Apoio) nesta tarefa. Você consegue inferir alguma observação a partir das duas visualizações?"
      ]
    },
    {
      "cell_type": "markdown",
      "metadata": {
        "id": "wxu49rWkCDdc"
      },
      "source": [
        "Fonte: https://www.kaggle.com/vjchoudhary7/customer-segmentation-tutorial-in-python\n",
        "\n",
        "Este dataset contém as informações básicas (ID, idade, sexo, renda, pontuação de gastos) sobre os clientes.\n",
        "\n",
        "Deverá ser utilizado o conjunto de dados do seguinte link: https://raw.githubusercontent.com/mateusqc/datasets/main/Mall_Customers_Clustering.csv"
      ]
    },
    {
      "cell_type": "code",
      "execution_count": null,
      "metadata": {
        "id": "MiX0brIXMsTo"
      },
      "outputs": [],
      "source": []
    }
  ],
  "metadata": {
    "colab": {
      "provenance": []
    },
    "kernelspec": {
      "display_name": "Python 3",
      "name": "python3"
    },
    "language_info": {
      "codemirror_mode": {
        "name": "ipython",
        "version": 3
      },
      "file_extension": ".py",
      "mimetype": "text/x-python",
      "name": "python",
      "nbconvert_exporter": "python",
      "pygments_lexer": "ipython3",
      "version": "3.10.12"
    }
  },
  "nbformat": 4,
  "nbformat_minor": 0
}
